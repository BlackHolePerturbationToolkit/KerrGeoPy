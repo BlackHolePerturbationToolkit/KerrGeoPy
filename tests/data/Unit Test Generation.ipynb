{
 "cells": [
  {
   "cell_type": "code",
   "execution_count": 4,
   "id": "8727d99d",
   "metadata": {},
   "outputs": [],
   "source": [
    "import numpy as np\n",
    "from itertools import product\n",
    "import matplotlib.pyplot as plt\n",
    "from re import sub\n",
    "from wolframclient.evaluation import WolframLanguageSession\n",
    "from wolframclient.language import wl, wlexpr\n",
    "from kerrgeopy.constants import *\n",
    "import kerrgeopy\n",
    "from numpy.polynomial import Polynomial\n",
    "\n",
    "session = WolframLanguageSession()\n",
    "session.evaluate(wlexpr(\"PacletDirectoryLoad[\\\"~/Documents/Wolfram Mathematica/BHPToolkit/KerrGeodesics\\\"]\"))\n",
    "session.evaluate(wl.Needs('KerrGeodesics`'))"
   ]
  },
  {
   "cell_type": "markdown",
   "id": "9b0d048f",
   "metadata": {},
   "source": [
    "## Separatrix"
   ]
  },
  {
   "cell_type": "code",
   "execution_count": null,
   "id": "56234f75",
   "metadata": {
    "collapsed": true
   },
   "outputs": [],
   "source": [
    "num_values = int(1000)\n",
    "sep_values = np.zeros((num_values,3))\n",
    "i = 0\n",
    "while i < num_values:\n",
    "    parameters = np.round([np.random.rand(), np.random.rand(), np.random.rand()*2-1], \\\n",
    "                          decimals = 1)\n",
    "    if parameters[0] != 1:\n",
    "        sep_values[i] = parameters\n",
    "        i += 1\n",
    "        \n",
    "def sub_zeros(txt):\n",
    "    txt1 = sub(\"0\\.0*,\",\"0,\",txt)\n",
    "    txt1 = sub(\"0\\.0*]\",\"0]\",txt1)\n",
    "    txt1 = sub(\"1\\.0*,\",\"1,\",txt1)\n",
    "    txt1 = sub(\"1\\.0*]\",\"1]\",txt1)\n",
    "    return txt1\n",
    "\n",
    "mathematica_sep_output = np.apply_along_axis(lambda x: \\\n",
    "                                        session.evaluate(wlexpr(\n",
    "                                        sub_zeros(\"KerrGeoSeparatrix[{:},{:},{:}]\".format(*x)))) \\\n",
    "                                        ,1,sep_values)\n",
    "\n",
    "np.savetxt(\"sep_values.txt\",sep_values,fmt=\"%.3f, %.3f, %.3f\")\n",
    "np.savetxt(\"mathematica_sep_output.txt\",mathematica_sep_output)"
   ]
  },
  {
   "cell_type": "markdown",
   "id": "4e6434c0",
   "metadata": {},
   "source": [
    "## Constants"
   ]
  },
  {
   "cell_type": "code",
   "execution_count": 2,
   "id": "544b5fbe",
   "metadata": {},
   "outputs": [],
   "source": [
    "a_values = [0,0.5]\n",
    "p_values = [12]\n",
    "e_values = [0, 0.5, 1]\n",
    "x_values = [-1,-0.5,0,0.5,1]\n",
    "\n",
    "const_values = np.array(list(product(a_values,p_values,e_values,x_values)))\n",
    "\n",
    "num_random_values = int(100)\n",
    "random_values = np.zeros((num_random_values,4))\n",
    "i = 0\n",
    "while i < num_random_values:\n",
    "    parameters = np.round([np.random.rand(), np.random.rand()*20, np.random.rand(), np.random.rand()*2-1], \\\n",
    "                          decimals = 3)\n",
    "    if parameters[0] != 1 and parameters[1] > separatrix(parameters[0],parameters[2],parameters[3]):\n",
    "        random_values[i] = parameters\n",
    "        i += 1\n",
    "        \n",
    "const_values = np.concatenate([const_values,random_values])\n",
    "\n",
    "mathematica_const_output = np.apply_along_axis(lambda x: \\\n",
    "                                         session.evaluate(\"Values[KerrGeoConstantsOfMotion[{:},{:},{:},{:}]]\".format(*x)) \\\n",
    "                                         ,1,const_values)\n",
    "\n",
    "np.savetxt(\"const_parameters.txt\",const_values,fmt=\"%.3f, %.3f, %.3f, %.3f\")\n",
    "np.savetxt(\"mathematica_const_output.txt\",mathematica_const_output)"
   ]
  },
  {
   "cell_type": "markdown",
   "id": "53dac606",
   "metadata": {},
   "source": [
    "## Frequencies"
   ]
  },
  {
   "cell_type": "code",
   "execution_count": 39,
   "id": "34830563",
   "metadata": {},
   "outputs": [],
   "source": [
    "a_values = [0,0.5]\n",
    "p_values = [12]\n",
    "e_values = [0, 0.5]\n",
    "x_values = [-1,-0.5,0.5,1]\n",
    "\n",
    "freq_values = np.array(list(product(a_values,p_values,e_values,x_values)))\n",
    "\n",
    "num_random_values = int(100)\n",
    "random_values = np.zeros((num_random_values,4))\n",
    "i = 0\n",
    "while i < num_random_values:\n",
    "    parameters = np.round([np.random.rand(), np.random.rand()*20, np.random.rand(), np.random.rand()*2-1], \\\n",
    "                          decimals = 3)\n",
    "    if parameters[0] != 1 and parameters[1] > separatrix(parameters[0],parameters[2],parameters[3]):\n",
    "        random_values[i] = parameters\n",
    "        i += 1\n",
    "        \n",
    "freq_values = np.concatenate([freq_values,random_values])\n",
    "\n",
    "mathematica_freq_output = np.apply_along_axis(lambda x: \\\n",
    "                                        session.evaluate(\n",
    "            wlexpr(\"Values[KerrGeoFrequencies[{:},{:},{:},{:},\\\"Time\\\" -> \\\"Mino\\\"]]\".format(*x))) \\\n",
    "                                        ,1,freq_values)\n",
    "\n",
    "\n",
    "np.savetxt(\"freq_parameters.txt\",freq_values,fmt=\"%.3f, %.3f, %.3f, %.3f\")\n",
    "np.savetxt(\"mathematica_freq_output.txt\",mathematica_freq_output)"
   ]
  },
  {
   "cell_type": "markdown",
   "id": "fca4e126",
   "metadata": {},
   "source": [
    "## Stable Solutions"
   ]
  },
  {
   "cell_type": "code",
   "execution_count": 2,
   "id": "efc1959f",
   "metadata": {},
   "outputs": [],
   "source": [
    "a_values = [0,0.5]\n",
    "p_values = [12]\n",
    "e_values = [0, 0.5]\n",
    "x_values = [-1,-0.5,0.5,1]\n",
    "\n",
    "orbit_values = np.array(list(product(a_values,p_values,e_values,x_values)))\n",
    "\n",
    "num_random_values = int(50)\n",
    "random_values = np.zeros((num_random_values,4))\n",
    "i = 0\n",
    "while i < num_random_values:\n",
    "    parameters = np.round([np.random.rand(), np.random.rand()*20, np.random.rand(), np.random.rand()*2-1], \\\n",
    "                          decimals = 3)\n",
    "    if parameters[0] != 1 and parameters[2] != 1 and parameters[3] != 0 and parameters[1] > separatrix(parameters[0],parameters[2],parameters[3]):\n",
    "        random_values[i] = parameters\n",
    "        i += 1\n",
    "        \n",
    "orbit_values = np.concatenate([orbit_values,random_values])\n",
    "np.savetxt(\"stable_orbit_parameters.txt\",orbit_values,fmt=\"%.3f, %.3f, %.3f, %.3f\")\n",
    "times = np.array(range(10))\n",
    "np.savetxt(\"stable_orbit_times.txt\",times)"
   ]
  },
  {
   "cell_type": "code",
   "execution_count": null,
   "id": "b73af1e3",
   "metadata": {
    "collapsed": true
   },
   "outputs": [],
   "source": [
    "for i, orbit in enumerate(orbit_values):\n",
    "    session.evaluate(wlexpr(\"orbit = KerrGeoOrbitPhases[{},{},{},{}]\".format(*orbit)))\n",
    "    session.evaluate(wlexpr(\"{tr, ttheta, phir, phitheta} = Values[orbit[\\\"TrajectoryDeltas\\\"]];\"))\n",
    "    trajectory_deltas = np.zeros((10,4))\n",
    "    for j,t in enumerate(times):\n",
    "        trajectory_deltas[j] = np.array(session.evaluate(wlexpr(f'N[{{tr[{t}],ttheta[{t}],phir[{t}],phitheta[{t}]}}]')))\n",
    "    np.savetxt(\"stable_solutions/trajectory\"+str(i)+\".txt\",trajectory_deltas,delimiter=\",\")"
   ]
  },
  {
   "cell_type": "markdown",
   "id": "ea7cbfe2",
   "metadata": {},
   "source": [
    "## Stable Orbit"
   ]
  },
  {
   "cell_type": "code",
   "execution_count": null,
   "id": "04a14df1",
   "metadata": {
    "collapsed": true
   },
   "outputs": [],
   "source": [
    "for i, orbit in enumerate(orbit_values):\n",
    "    session.evaluate(wlexpr(\"orbit = KerrGeoOrbit[{},{},{},{}]\".format(*orbit)))\n",
    "    session.evaluate(wlexpr(\"{t, r, theta, phi} = orbit[\\\"Trajectory\\\"]\"))\n",
    "    trajectory = np.zeros((10,4))\n",
    "    for j,t in enumerate(times):\n",
    "        trajectory[j] = np.array(session.evaluate(wlexpr(f'N[{{t[{t}],r[{t}],theta[{t}],phi[{t}]}}]')))\n",
    "    np.savetxt(\"stable_orbits/trajectory\"+str(i)+\".txt\",trajectory,delimiter=\",\")"
   ]
  },
  {
   "cell_type": "markdown",
   "id": "5345f2f0",
   "metadata": {},
   "source": [
    "## Plunging Solutions and Integrals (Complex Roots)"
   ]
  },
  {
   "cell_type": "code",
   "execution_count": 5,
   "id": "1db59f20",
   "metadata": {},
   "outputs": [],
   "source": [
    "num_random_values = int(100)\n",
    "orbit_values = np.zeros((num_random_values,4))\n",
    "i = 0\n",
    "\n",
    "while i < num_random_values:\n",
    "    parameters = np.round([np.random.rand(), np.random.rand(), (np.random.rand()-0.5)*10, np.random.rand()*10], \\\n",
    "                          decimals = 3)\n",
    "    # Filter only parameters with complex roots\n",
    "    a, E, L, Q = parameters\n",
    "    R = Polynomial([-a**2*Q, 2*L**2+2*Q+2*a**2*E**2-4*a*E*L, a**2*E**2-L**2-Q-a**2, 2, E**2-1])\n",
    "    radial_roots = R.roots()\n",
    "    complex_roots = radial_roots[np.iscomplex(radial_roots)]\n",
    "    \n",
    "    if parameters[0] != 1 and parameters[1] != 1 and len(complex_roots) > 0:\n",
    "        orbit_values[i] = parameters\n",
    "        i += 1\n",
    "\n",
    "np.savetxt(\"plunging_orbit_parameters_complex.txt\",orbit_values,fmt=\"%.3f, %.3f, %.3f, %.3f\")\n",
    "times = np.array(range(10))\n",
    "np.savetxt(\"plunging_orbit_times.txt\",times)"
   ]
  },
  {
   "cell_type": "code",
   "execution_count": 7,
   "id": "12bd08bd",
   "metadata": {},
   "outputs": [],
   "source": [
    "for i, orbit in enumerate(orbit_values):\n",
    "    session.evaluate(wlexpr(\"orbit = KerrGeoPlunge[{},{{{},{},{}}}]\".format(*orbit)))\n",
    "    session.evaluate(wlexpr(\"{Ir, Ir2, Irp, Irm} = Values[orbit[\\\"RadialIntegrals\\\"]]\"))\n",
    "    session.evaluate(wlexpr(\"{tr,phir,tz,phiz} = Values[orbit[\\\"TrajectoryDeltas\\\"]]\"))\n",
    "    trajectory_deltas = np.zeros((10,4))\n",
    "    integrals = np.zeros((10,4))\n",
    "    for j,t in enumerate(times):\n",
    "        trajectory_deltas[j] = np.array(session.evaluate(wlexpr(f'N[{{tr[{t}],phir[{t}],tz[{t}],phiz[{t}]}}]')))\n",
    "        integrals[j] = np.array(session.evaluate(wlexpr(f'N[{{Ir[{t}],Ir2[{t}],Irp[{t}],Irm[{t}]}}]')))\n",
    "    np.savetxt(\"plunging_solutions/trajectory\"+str(i)+\".txt\",trajectory_deltas,delimiter=\",\")\n",
    "    np.savetxt(\"plunging_integrals/trajectory\"+str(i)+\".txt\",integrals,delimiter=\",\")"
   ]
  },
  {
   "cell_type": "markdown",
   "id": "0c32215e",
   "metadata": {},
   "source": [
    "## Plunging Orbit (Complex Roots)"
   ]
  },
  {
   "cell_type": "code",
   "execution_count": 8,
   "id": "0ad8225a",
   "metadata": {},
   "outputs": [],
   "source": [
    "for i, orbit in enumerate(orbit_values):\n",
    "    session.evaluate(wlexpr(\"orbit = KerrGeoPlunge[{},{{{},{},{}}}]\".format(*orbit)))\n",
    "    session.evaluate(wlexpr(\"{t, r, theta, phi} = orbit[\\\"Trajectory\\\"]\"))\n",
    "    trajectory = np.zeros((len(times),4))\n",
    "    for j,t in enumerate(times):\n",
    "        trajectory[j] = np.array(session.evaluate(wlexpr(f'N[{{t[{t}],r[{t}],theta[{t}],phi[{t}]}}]')))\n",
    "    np.savetxt(\"plunging_orbits_complex/trajectory\"+str(i)+\".txt\",trajectory,delimiter=\",\")"
   ]
  },
  {
   "cell_type": "markdown",
   "id": "e971bbb7",
   "metadata": {},
   "source": [
    "## Plunging Orbit (Real)"
   ]
  },
  {
   "cell_type": "code",
   "execution_count": 11,
   "id": "170bad0e",
   "metadata": {},
   "outputs": [],
   "source": [
    "num_random_values = int(100)\n",
    "orbit_values = np.zeros((num_random_values,4))\n",
    "i = 0\n",
    "\n",
    "while i < num_random_values:\n",
    "    parameters = np.round([np.random.rand(), np.random.rand(), (np.random.rand()-0.5)*10, np.random.rand()*10], \\\n",
    "                          decimals = 3)\n",
    "    a, E, L, Q = parameters\n",
    "    R = Polynomial([-a**2*Q, 2*L**2+2*Q+2*a**2*E**2-4*a*E*L, a**2*E**2-L**2-Q-a**2, 2, E**2-1])\n",
    "    radial_roots = R.roots()\n",
    "    complex_roots = radial_roots[np.iscomplex(radial_roots)]\n",
    "    \n",
    "    if parameters[0] != 1 and parameters[1] != 1 and len(complex_roots) == 0:\n",
    "        orbit_values[i] = parameters\n",
    "        i += 1\n",
    "\n",
    "np.savetxt(\"plunging_orbit_parameters_real.txt\",orbit_values,fmt=\"%.3f, %.3f, %.3f, %.3f\")"
   ]
  },
  {
   "cell_type": "code",
   "execution_count": 12,
   "id": "888af26c",
   "metadata": {},
   "outputs": [],
   "source": [
    "for i, orbit in enumerate(orbit_values):\n",
    "    session.evaluate(wlexpr(\"orbit = KerrGeoPlunge[{},{{{},{},{}}}]\".format(*orbit)))\n",
    "    session.evaluate(wlexpr(\"{t, r, theta, phi} = orbit[\\\"Trajectory\\\"]\"))\n",
    "    trajectory = np.zeros((len(times),4))\n",
    "    for j,t in enumerate(times):\n",
    "        trajectory[j] = np.array(session.evaluate(wlexpr(f'N[{{t[{t}],r[{t}],theta[{t}],phi[{t}]}}]')))\n",
    "    np.savetxt(\"plunging_orbits_real/trajectory\"+str(i)+\".txt\",trajectory,delimiter=\",\")"
   ]
  },
  {
   "cell_type": "markdown",
   "id": "74cf295a",
   "metadata": {},
   "source": [
    "## Four Velocity"
   ]
  },
  {
   "cell_type": "code",
   "execution_count": 14,
   "id": "f0f6d0f8",
   "metadata": {},
   "outputs": [],
   "source": [
    "orbit_values = np.genfromtxt(\"/users/spark59/Documents/KerrGeoPy/tests/data/stable_orbit_values.txt\",\n",
    "                             delimiter=\",\")\n",
    "for i, orbit in enumerate(orbit_values):\n",
    "    session.evaluate(wlexpr(\"u = KerrGeoFourVelocity[{:},{:},{:},{:}];\".format(*orbit)))\n",
    "    session.evaluate(wlexpr(\"{ut,ur,utheta,uphi} = Values[u]\"))\n",
    "    trajectory = np.zeros((10,4))\n",
    "    for j,t in enumerate(times):\n",
    "        trajectory[j] = np.array(\n",
    "            session.evaluate(wlexpr(f'N[{{ut[{t}],ur[{t}],utheta[{t}],uphi[{t}]}}]'))\n",
    "        )\n",
    "    np.savetxt(\"four_velocity/trajectory\"+str(i)+\".txt\",trajectory,delimiter=\",\")"
   ]
  }
 ],
 "metadata": {
  "kernelspec": {
   "display_name": "Python 3 (ipykernel)",
   "language": "python",
   "name": "python3"
  },
  "language_info": {
   "codemirror_mode": {
    "name": "ipython",
    "version": 3
   },
   "file_extension": ".py",
   "mimetype": "text/x-python",
   "name": "python",
   "nbconvert_exporter": "python",
   "pygments_lexer": "ipython3",
   "version": "3.10.12"
  }
 },
 "nbformat": 4,
 "nbformat_minor": 5
}
